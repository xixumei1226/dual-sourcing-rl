{
 "cells": [
  {
   "cell_type": "code",
   "execution_count": 1,
   "id": "binding-island",
   "metadata": {},
   "outputs": [],
   "source": [
    "import gym\n",
    "import numpy as np\n",
    "import dual_sourcing"
   ]
  },
  {
   "cell_type": "code",
   "execution_count": 2,
   "id": "capable-kingdom",
   "metadata": {},
   "outputs": [],
   "source": [
    "CONFIG = {'Lr': 5, 'Le': 1, 'cr': 100, 'ce': 105, 'lambda': 10,\n",
    "          'h': 1, 'b': 19, 'starting_state': [0]*7, 'max_order': 20, 'max_inventory': 1000}\n",
    "\n",
    "env = gym.make('DualSourcing-v0', config=CONFIG)"
   ]
  },
  {
   "cell_type": "code",
   "execution_count": 3,
   "id": "opened-weekly",
   "metadata": {},
   "outputs": [
    {
     "name": "stdout",
     "output_type": "stream",
     "text": [
      "[0 0 0 0 0 0 0]\n",
      "MultiDiscrete([21 21])\n",
      "MultiDiscrete([  21   21   21   21   21   21 1000])\n"
     ]
    }
   ],
   "source": [
    "print(env.state)\n",
    "print(env.action_space)\n",
    "print(env.observation_space)"
   ]
  },
  {
   "cell_type": "code",
   "execution_count": 4,
   "id": "governing-humor",
   "metadata": {},
   "outputs": [
    {
     "name": "stdout",
     "output_type": "stream",
     "text": [
      "(array([  0,   0,   0,   0,   8,   2, -10]), 0, 10, {})\n",
      "***\n",
      "(array([ 4,  5,  6,  6,  3,  1, -2]), -812, 11, {})\n"
     ]
    }
   ],
   "source": [
    "env.seed(0)\n",
    "env.state = [0] * 7\n",
    "print(env.step([8, 2]))\n",
    "print('***')\n",
    "env.state = [5, 4, 5, 6, 6, 2, 2]\n",
    "print(env.step([3, 1]))"
   ]
  },
  {
   "cell_type": "code",
   "execution_count": 8,
   "id": "engaged-password",
   "metadata": {},
   "outputs": [
    {
     "data": {
      "text/plain": [
       "array([11, 15])"
      ]
     },
     "execution_count": 8,
     "metadata": {},
     "output_type": "execute_result"
    }
   ],
   "source": [
    "env.seed(0)\n",
    "env.action_space.sample()"
   ]
  },
  {
   "cell_type": "code",
   "execution_count": null,
   "id": "romantic-homeless",
   "metadata": {},
   "outputs": [],
   "source": []
  }
 ],
 "metadata": {
  "kernelspec": {
   "display_name": "Python 3",
   "language": "python",
   "name": "python3"
  },
  "language_info": {
   "codemirror_mode": {
    "name": "ipython",
    "version": 3
   },
   "file_extension": ".py",
   "mimetype": "text/x-python",
   "name": "python",
   "nbconvert_exporter": "python",
   "pygments_lexer": "ipython3",
   "version": "3.8.2"
  }
 },
 "nbformat": 4,
 "nbformat_minor": 5
}
