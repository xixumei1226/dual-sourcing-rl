{
 "cells": [
  {
   "cell_type": "code",
   "execution_count": 1,
   "id": "binding-island",
   "metadata": {},
   "outputs": [],
   "source": [
    "import gym\n",
    "import numpy as np\n",
    "\n",
    "import sys\n",
    "import matplotlib.pyplot as plt\n",
    "\n",
    "import dual_sourcing\n",
    "import utility\n",
    "\n",
    "import torch\n",
    "import torch.nn as nn\n",
    "from torch.distributions import Categorical\n",
    "import torch.optim as optim\n",
    "import torch.nn.functional as F\n",
    "\n",
    "from collections import namedtuple"
   ]
  },
  {
   "cell_type": "markdown",
   "id": "disturbed-transformation",
   "metadata": {},
   "source": [
    "- add max inventory to dual_sourcing\n",
    "- "
   ]
  },
  {
   "cell_type": "code",
   "execution_count": 3,
   "id": "capable-kingdom",
   "metadata": {},
   "outputs": [
    {
     "data": {
      "text/plain": [
       "0"
      ]
     },
     "execution_count": 3,
     "metadata": {},
     "output_type": "execute_result"
    }
   ],
   "source": [
    "# CONFIG = {'Lr': 2, 'Le': 1, 'cr': 100, 'ce': 105, 'lambda': 2,\n",
    "#           'h': 1, 'b': 19, 'starting_state': [0]*4, 'max_order': 4, 'max_inventory': 10}\n",
    "\n",
    "CONFIG = {'Lr': 5, 'Le': 1, 'cr': 100, 'ce': 105, 'lambda': 10,\n",
    "          'h': 1, 'b': 19, 'starting_state': [0]*7, 'max_order': 20, 'max_inventory': 1000}\n",
    "\n",
    "env = gym.make('DualSourcing-v0', config=CONFIG)\n",
    "# env = DualSourcing(CONFIG)\n",
    "env.seed(0)"
   ]
  },
  {
   "cell_type": "code",
   "execution_count": 5,
   "id": "documentary-surrey",
   "metadata": {},
   "outputs": [],
   "source": [
    "# Share the parameters\n",
    "\n",
    "state_space = env.observation_space.shape[0]\n",
    "action_space = (env.max_order+1) ** 2\n",
    "\n",
    "#Hyperparameters\n",
    "gamma = 0.99\n",
    "render = False\n",
    "eps = np.finfo(np.float32).eps.item()\n",
    "SavedAction = namedtuple('SavedAction', ['log_prob', 'value'])\n",
    "\n",
    "# hidden size = 32\n",
    "class Policy(nn.Module):\n",
    "    def __init__(self):\n",
    "        super(Policy, self).__init__()\n",
    "        self.fc1 = nn.Linear(state_space, 32)\n",
    "\n",
    "        self.action_head = nn.Linear(32, action_space)\n",
    "        self.value_head = nn.Linear(32, 1) # Scalar Value\n",
    "\n",
    "        self.save_actions = []\n",
    "        self.rewards = []\n",
    "\n",
    "    def forward(self, x):\n",
    "        x = F.relu(self.fc1(x))\n",
    "        action_score = self.action_head(x)\n",
    "        state_value = self.value_head(x)\n",
    "\n",
    "        return F.softmax(action_score, dim=-1), state_value"
   ]
  },
  {
   "cell_type": "code",
   "execution_count": 6,
   "id": "shaped-integer",
   "metadata": {},
   "outputs": [],
   "source": [
    "torch.manual_seed(0)\n",
    "learning_rate = 0.01\n",
    "model = Policy()\n",
    "optimizer = optim.Adam(model.parameters(), lr=learning_rate)\n",
    "\n",
    "# for name, layer in model.named_modules(): ###regular gradient\n",
    "#         if type(layer) == nn.Linear:\n",
    "#             print(layer.weight.data)\n",
    "#             print(layer.bias.data)\n",
    "\n",
    "def select_action(state):\n",
    "    state = torch.from_numpy(state).float()\n",
    "    probs, state_value = model(state)\n",
    "    m = Categorical(probs)\n",
    "    action = m.sample()\n",
    "    model.save_actions.append(SavedAction(m.log_prob(action), state_value))\n",
    "\n",
    "    return action.item()"
   ]
  },
  {
   "cell_type": "code",
   "execution_count": 7,
   "id": "527f18cf",
   "metadata": {},
   "outputs": [],
   "source": [
    "def finish_episode():\n",
    "    R = 0\n",
    "    save_actions = model.save_actions\n",
    "    policy_loss = []\n",
    "    value_loss = []\n",
    "    rewards = []\n",
    "\n",
    "    for r in model.rewards[::-1]:\n",
    "        R = r + gamma * R\n",
    "        rewards.insert(0, R)\n",
    "\n",
    "    rewards = torch.tensor(rewards)\n",
    "#     rewards = (rewards - rewards.mean()) / (rewards.std() + eps)\n",
    "\n",
    "    for (log_prob , value), r in zip(save_actions, rewards):\n",
    "        reward = r - value.item()\n",
    "        policy_loss.append(-log_prob * reward)\n",
    "#         value_loss.append(F.l1_loss(value, torch.tensor([r])))\n",
    "        value_loss.append(F.smooth_l1_loss(value, torch.tensor([r])))\n",
    "#         value_loss.append(F.mse_loss(value, torch.tensor([r])))\n",
    "\n",
    "    optimizer.zero_grad()\n",
    "    loss = torch.stack(policy_loss).sum() + torch.stack(value_loss).sum()\n",
    "    loss.backward()\n",
    "    optimizer.step()\n",
    "\n",
    "    del model.rewards[:]\n",
    "    del model.save_actions[:]"
   ]
  },
  {
   "cell_type": "code",
   "execution_count": 8,
   "id": "understanding-binary",
   "metadata": {},
   "outputs": [],
   "source": [
    "def TBS(env, r, S):\n",
    "    ip = np.sum(env.state[1:(env.Le+1)]) + np.sum(env.state[env.Lr:])\n",
    "    return r, max(0, S-ip)"
   ]
  },
  {
   "cell_type": "code",
   "execution_count": 10,
   "id": "comparative-directive",
   "metadata": {},
   "outputs": [],
   "source": [
    "m = env.max_order + 1\n",
    "\n",
    "def sample_action(state):\n",
    "    state = torch.from_numpy(state).float()\n",
    "#     print(state)\n",
    "    action_probs = policy(state)\n",
    "#     print(action_probs)\n",
    "    \n",
    "    dist = Categorical(action_probs)\n",
    "    action = dist.sample() # 0, 1, ..., 440\n",
    "#     print(action)\n",
    "    \n",
    "#     policy.save_actions.append(dist.log_prob(action))\n",
    "    action = np.asarray([action.item() // m, action.item() % m])\n",
    "    return action"
   ]
  },
  {
   "cell_type": "code",
   "execution_count": 11,
   "id": "e685ce5e",
   "metadata": {},
   "outputs": [],
   "source": [
    "np.random.seed(0)\n",
    "\n",
    "a = 0.01\n",
    "maxit_init = 10000\n",
    "for i in range(maxit_init):\n",
    "    s = np.random.rand(7)\n",
    "    s = np.floor(s * np.asarray([11]*6 + [41])) ############\n",
    "    s[-1] -= 20\n",
    "    env.state = s\n",
    "    \n",
    "    qr, qe = TBS(env, 5, 3)\n",
    "    action = 21 * qr + qe\n",
    "    action = int(action)\n",
    "    probs, _ = model(torch.from_numpy(s).float())\n",
    "#     print(probs)\n",
    "    \n",
    "    model.zero_grad()\n",
    "    loss = (probs ** 2).sum() - 2 * probs[action]\n",
    "#     print(loss)\n",
    "    loss.backward()\n",
    "    \n",
    "    for name, layer in model.named_modules(): ###regular gradient\n",
    "        if type(layer) == nn.Linear and not (name == 'value_head'):\n",
    "            layer.weight.data -= a * layer.weight.grad\n",
    "            layer.bias.data -= a * layer.bias.grad"
   ]
  },
  {
   "cell_type": "code",
   "execution_count": 13,
   "id": "frequent-ocean",
   "metadata": {},
   "outputs": [],
   "source": [
    "def nn_policy(env):\n",
    "    action = select_action(env.state)\n",
    "    return np.asarray([action // m, action % m])"
   ]
  },
  {
   "cell_type": "code",
   "execution_count": 76,
   "id": "mineral-mention",
   "metadata": {},
   "outputs": [
    {
     "name": "stdout",
     "output_type": "stream",
     "text": [
      "Average reward: -1251.4914491449144\n"
     ]
    },
    {
     "data": {
      "image/png": "[encoded data removed]",
      "text/plain": [
       "<Figure size 432x288 with 1 Axes>"
      ]
     },
     "metadata": {
      "needs_background": "light"
     },
     "output_type": "display_data"
    }
   ],
   "source": [
    "convergence_test(env, 10000, TBS, env, 5, 3)"
   ]
  },
  {
   "cell_type": "code",
   "execution_count": 14,
   "id": "geological-drink",
   "metadata": {},
   "outputs": [
    {
     "name": "stdout",
     "output_type": "stream",
     "text": [
      "Average reward: -1139.7871787178717\n"
     ]
    },
    {
     "data": {
      "image/png": "[encoded data removed]",
      "text/plain": [
       "<Figure size 432x288 with 1 Axes>"
      ]
     },
     "metadata": {
      "needs_background": "light"
     },
     "output_type": "display_data"
    }
   ],
   "source": [
    "convergence_test(env, 10000, nn_policy, env)"
   ]
  },
  {
   "cell_type": "code",
   "execution_count": 15,
   "id": "4fb221bf",
   "metadata": {},
   "outputs": [],
   "source": [
    "# running_reward = 10\n",
    "# live_time = []\n",
    "episodes = 100\n",
    "m = env.max_order + 1\n",
    "for i_episode in range(episodes):\n",
    "    state = env.reset()\n",
    "    t = 0\n",
    "    while True:\n",
    "        state = np.asarray(state)\n",
    "        action = select_action(state)\n",
    "        state, reward, _, info = env.step(np.asarray([action // m, action % m]))\n",
    "#         print(state)\n",
    "        state = torch.from_numpy(state).float()\n",
    "        reward = torch.tensor(reward).float()\n",
    "#         if render: env.render()\n",
    "        model.rewards.append(reward)\n",
    "        \n",
    "        if t >= 1000:\n",
    "            break\n",
    "        \n",
    "        t = t + 1\n",
    "    finish_episode()"
   ]
  },
  {
   "cell_type": "code",
   "execution_count": 19,
   "id": "likely-gauge",
   "metadata": {},
   "outputs": [
    {
     "name": "stdout",
     "output_type": "stream",
     "text": [
      "Average reward: -1076.4861486148616\n"
     ]
    },
    {
     "data": {
      "image/png": "[encoded data removed]",
      "text/plain": [
       "<Figure size 432x288 with 1 Axes>"
      ]
     },
     "metadata": {
      "needs_background": "light"
     },
     "output_type": "display_data"
    }
   ],
   "source": [
    "convergence_test(env, 10000, nn_policy, env)"
   ]
  },
  {
   "cell_type": "code",
   "execution_count": 20,
   "id": "noticed-yukon",
   "metadata": {},
   "outputs": [
    {
     "data": {
      "text/plain": [
       "(-1069.0728100000001, 7.467461602941128)"
      ]
     },
     "execution_count": 20,
     "metadata": {},
     "output_type": "execute_result"
    }
   ],
   "source": [
    "evaluate(env, 50, 4000, nn_policy, env)"
   ]
  },
  {
   "cell_type": "markdown",
   "id": "fewer-lindsay",
   "metadata": {},
   "source": [
    "with rewards normalization: -1100\n",
    "w/o ......................: -1050\n",
    "decision: remove\n",
    "\n",
    "with smooth l1 loss: -1050\n",
    "with l2 (mse) loss: -1108\n",
    "with l1 loss: -1060\n",
    "decision: undecided\n",
    "\n",
    "equal weights for two losses: -1050\n",
    "0.5 for value (critic) loss: -1050 ish\n",
    "decision: maybe another hyper param to tune"
   ]
  },
  {
   "cell_type": "code",
   "execution_count": 10,
   "id": "2634eced",
   "metadata": {},
   "outputs": [
    {
     "data": {
      "image/png": "[encoded data removed]",
      "text/plain": [
       "<Figure size 432x288 with 1 Axes>"
      ]
     },
     "metadata": {
      "needs_background": "light"
     },
     "output_type": "display_data"
    }
   ],
   "source": [
    "convergence_test(env, 10000, TBS, env, 2, 2)"
   ]
  }
 ],
 "metadata": {
  "kernelspec": {
   "display_name": "Python 3",
   "language": "python",
   "name": "python3"
  },
  "language_info": {
   "codemirror_mode": {
    "name": "ipython",
    "version": 3
   },
   "file_extension": ".py",
   "mimetype": "text/x-python",
   "name": "python",
   "nbconvert_exporter": "python",
   "pygments_lexer": "ipython3",
   "version": "3.8.2"
  }
 },
 "nbformat": 4,
 "nbformat_minor": 5
}
