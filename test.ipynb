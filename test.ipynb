{
 "cells": [
  {
   "cell_type": "markdown",
   "id": "wooden-compact",
   "metadata": {},
   "source": [
    "Import packages."
   ]
  },
  {
   "cell_type": "code",
   "execution_count": 1,
   "id": "binding-island",
   "metadata": {},
   "outputs": [],
   "source": [
    "import gym\n",
    "import numpy as np\n",
    "import dual_sourcing"
   ]
  },
  {
   "cell_type": "markdown",
   "id": "alien-formation",
   "metadata": {},
   "source": [
    "Set up configurations for the environment."
   ]
  },
  {
   "cell_type": "code",
   "execution_count": 2,
   "id": "capable-kingdom",
   "metadata": {},
   "outputs": [],
   "source": [
    "CONFIG = {'Lr': 5, 'Le': 1, 'cr': 100, 'ce': 105, 'lambda': 10,\n",
    "          'h': 1, 'b': 19, 'starting_state': [0]*7, 'max_order': 20, 'max_inventory': 1000}"
   ]
  },
  {
   "cell_type": "markdown",
   "id": "central-cylinder",
   "metadata": {},
   "source": [
    "Make an instance of the environment."
   ]
  },
  {
   "cell_type": "code",
   "execution_count": 3,
   "id": "reserved-beach",
   "metadata": {},
   "outputs": [],
   "source": [
    "env = gym.make('DualSourcing-v0', config=CONFIG)"
   ]
  },
  {
   "cell_type": "markdown",
   "id": "federal-snapshot",
   "metadata": {},
   "source": [
    "Print the environment settings."
   ]
  },
  {
   "cell_type": "code",
   "execution_count": 4,
   "id": "opened-weekly",
   "metadata": {},
   "outputs": [
    {
     "name": "stdout",
     "output_type": "stream",
     "text": [
      "[0 0 0 0 0 0 0]\n",
      "MultiDiscrete([21 21])\n",
      "MultiDiscrete([  21   21   21   21   21   21 1000])\n"
     ]
    }
   ],
   "source": [
    "print(env.state)\n",
    "print(env.action_space)\n",
    "print(env.observation_space)"
   ]
  },
  {
   "cell_type": "markdown",
   "id": "stunning-inspiration",
   "metadata": {},
   "source": [
    "Test the step function."
   ]
  },
  {
   "cell_type": "code",
   "execution_count": 5,
   "id": "governing-humor",
   "metadata": {},
   "outputs": [
    {
     "name": "stdout",
     "output_type": "stream",
     "text": [
      "(array([  0,   0,   0,   0,   8,   2, -10]), 0, 10, {})\n",
      "***\n",
      "(array([ 4,  5,  6,  6,  3,  1, -2]), -812, 11, {})\n"
     ]
    }
   ],
   "source": [
    "env.seed(0)\n",
    "env.state = [0] * 7\n",
    "print(env.step([8, 2]))\n",
    "print('***')\n",
    "env.state = [5, 4, 5, 6, 6, 2, 2]\n",
    "print(env.step([3, 1]))"
   ]
  },
  {
   "cell_type": "markdown",
   "id": "frank-difficulty",
   "metadata": {},
   "source": [
    "Evaluate an estimate of the value function for a certain policy by doing multiple episodes of simulation."
   ]
  },
  {
   "cell_type": "code",
   "execution_count": 62,
   "id": "romantic-homeless",
   "metadata": {},
   "outputs": [],
   "source": [
    "def evaluate(env, n_episodes, numiters, policy, *args):\n",
    "    # policy: policy function\n",
    "    # env: gym environment\n",
    "    # n_episodes: number of total episodes to run (outer iteration)\n",
    "    # numiters: number of time steps (inner iteration)\n",
    "    \n",
    "    av_reward = np.zeros(n_episodes)\n",
    "    \n",
    "    for i in range(n_episodes):\n",
    "        av_r = 0\n",
    "        env.reset() # reset environment\n",
    "        for t in range(numiters):\n",
    "            action = policy(*args) # use a constant action\n",
    "            state, reward, demand, info = env.step(action)\n",
    "            av_r = av_r + reward\n",
    "        av_reward[i] = av_r / numiters\n",
    "        \n",
    "    return np.mean(av_reward), np.std(av_reward) # return average reward and std"
   ]
  },
  {
   "cell_type": "code",
   "execution_count": 49,
   "id": "loaded-handling",
   "metadata": {},
   "outputs": [],
   "source": [
    "def constant_policy(env):\n",
    "    return np.array([0, 10])"
   ]
  },
  {
   "cell_type": "code",
   "execution_count": 52,
   "id": "automotive-galaxy",
   "metadata": {},
   "outputs": [
    {
     "data": {
      "text/plain": [
       "(-1764.5975599999997, 699.6435250348754)"
      ]
     },
     "execution_count": 52,
     "metadata": {},
     "output_type": "execute_result"
    }
   ],
   "source": [
    "evaluate(constant_policy, env, 100, 1000)"
   ]
  },
  {
   "cell_type": "code",
   "execution_count": 60,
   "id": "mineral-transcription",
   "metadata": {},
   "outputs": [],
   "source": [
    "def TBS(env, Q, Se):\n",
    "    ip = np.sum(env.state[1:env.Le]) + np.sum(env.state[env.Lr+1:])\n",
    "    return Q, max(0, ip-Se)"
   ]
  },
  {
   "cell_type": "code",
   "execution_count": 67,
   "id": "after-uganda",
   "metadata": {},
   "outputs": [
    {
     "data": {
      "text/plain": [
       "(-48426.34678, 1150.3982653473936)"
      ]
     },
     "execution_count": 67,
     "metadata": {},
     "output_type": "execute_result"
    }
   ],
   "source": [
    "evaluate(env, 100, 1000, TBS, env, 5, 3)"
   ]
  }
 ],
 "metadata": {
  "kernelspec": {
   "display_name": "Python 3",
   "language": "python",
   "name": "python3"
  },
  "language_info": {
   "codemirror_mode": {
    "name": "ipython",
    "version": 3
   },
   "file_extension": ".py",
   "mimetype": "text/x-python",
   "name": "python",
   "nbconvert_exporter": "python",
   "pygments_lexer": "ipython3",
   "version": "3.8.2"
  }
 },
 "nbformat": 4,
 "nbformat_minor": 5
}
