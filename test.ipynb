{
 "cells": [
  {
   "cell_type": "markdown",
   "id": "wooden-compact",
   "metadata": {},
   "source": [
    "Import packages."
   ]
  },
  {
   "cell_type": "code",
   "execution_count": 2,
   "id": "binding-island",
   "metadata": {},
   "outputs": [],
   "source": [
    "import gym\n",
    "import numpy as np\n",
    "import dual_sourcing"
   ]
  },
  {
   "cell_type": "markdown",
   "id": "alien-formation",
   "metadata": {},
   "source": [
    "Set up configurations for the environment."
   ]
  },
  {
   "cell_type": "code",
   "execution_count": 23,
   "id": "unique-burton",
   "metadata": {},
   "outputs": [
    {
     "name": "stdout",
     "output_type": "stream",
     "text": [
      "-19\n"
     ]
    }
   ],
   "source": [
    "Ghat = np.random.geometric(p=0.5)\n",
    "Lambda = 10\n",
    "init_inventory  = 0\n",
    "for i in range(Ghat):\n",
    "    init_inventory = init_inventory - np.random.poisson(Lambda)\n",
    "print(init_inventory)"
   ]
  },
  {
   "cell_type": "code",
   "execution_count": 27,
   "id": "capable-kingdom",
   "metadata": {},
   "outputs": [],
   "source": [
    "CONFIG = {'Lr': 5, 'Le': 1, 'cr': 100, 'ce': 105, 'lambda': Lambda,\n",
    "          'h': 1, 'b': 19, 'starting_state': np.append([0]*6, init_inventory), 'max_order': 20, 'max_inventory': 1000}"
   ]
  },
  {
   "cell_type": "markdown",
   "id": "central-cylinder",
   "metadata": {},
   "source": [
    "Make an instance of the environment."
   ]
  },
  {
   "cell_type": "code",
   "execution_count": 28,
   "id": "reserved-beach",
   "metadata": {},
   "outputs": [],
   "source": [
    "env = gym.make('DualSourcing-v0', config=CONFIG)"
   ]
  },
  {
   "cell_type": "markdown",
   "id": "federal-snapshot",
   "metadata": {},
   "source": [
    "Print the environment settings."
   ]
  },
  {
   "cell_type": "code",
   "execution_count": 29,
   "id": "opened-weekly",
   "metadata": {},
   "outputs": [
    {
     "name": "stdout",
     "output_type": "stream",
     "text": [
      "[  0   0   0   0   0   0 -19]\n",
      "MultiDiscrete([21 21])\n",
      "MultiDiscrete([  21   21   21   21   21   21 1000])\n"
     ]
    }
   ],
   "source": [
    "print(env.state)\n",
    "print(env.action_space)\n",
    "print(env.observation_space)"
   ]
  },
  {
   "cell_type": "markdown",
   "id": "stunning-inspiration",
   "metadata": {},
   "source": [
    "Test the step function."
   ]
  },
  {
   "cell_type": "code",
   "execution_count": 5,
   "id": "governing-humor",
   "metadata": {},
   "outputs": [
    {
     "name": "stdout",
     "output_type": "stream",
     "text": [
      "(array([  0,   0,   0,   0,   8,   2, -10]), 0, 10, {})\n",
      "***\n",
      "(array([ 4,  5,  6,  6,  3,  1, -2]), -812, 11, {})\n"
     ]
    }
   ],
   "source": [
    "env.seed(0)\n",
    "env.state = [0] * 7\n",
    "print(env.step([8, 2]))\n",
    "print('***')\n",
    "env.state = [5, 4, 5, 6, 6, 2, 2]\n",
    "print(env.step([3, 1]))"
   ]
  },
  {
   "cell_type": "markdown",
   "id": "frank-difficulty",
   "metadata": {},
   "source": [
    "Evaluate an estimate of the value function for a certain policy by doing multiple episodes of simulation."
   ]
  },
  {
   "cell_type": "code",
   "execution_count": 33,
   "id": "romantic-homeless",
   "metadata": {},
   "outputs": [],
   "source": [
    "def evaluate(env, n_episodes, numiters, policy, *args):\n",
    "    # policy: policy function\n",
    "    # env: gym environment\n",
    "    # n_episodes: number of total episodes to run (outer iteration)\n",
    "    # numiters: number of time steps (inner iteration)\n",
    "    \n",
    "    av_reward = np.zeros(n_episodes)\n",
    "    \n",
    "    for i in range(n_episodes):\n",
    "        av_r = 0\n",
    "        env.reset() # reset environment\n",
    "        for t in range(numiters):\n",
    "            action = policy(*args) # use a constant action\n",
    "            state, reward, demand, done, info = env.step(action)\n",
    "            av_r = av_r + reward\n",
    "        av_reward[i] = av_r / numiters\n",
    "        \n",
    "    return np.mean(av_reward), np.std(av_reward) # return average reward and std"
   ]
  },
  {
   "cell_type": "code",
   "execution_count": 6,
   "id": "loaded-handling",
   "metadata": {},
   "outputs": [],
   "source": [
    "def constant_policy(env):\n",
    "    return np.array([0, 10])"
   ]
  },
  {
   "cell_type": "code",
   "execution_count": 38,
   "id": "automotive-galaxy",
   "metadata": {},
   "outputs": [
    {
     "data": {
      "text/plain": [
       "(-2879.9507599999993, 1905.6715052930335)"
      ]
     },
     "execution_count": 38,
     "metadata": {},
     "output_type": "execute_result"
    }
   ],
   "source": [
    "evaluate(env, 100, 10000, constant_policy, env)"
   ]
  },
  {
   "cell_type": "code",
   "execution_count": 60,
   "id": "mineral-transcription",
   "metadata": {},
   "outputs": [],
   "source": [
    "def TBS(env, Q, Se):\n",
    "    ip = np.sum(env.state[1:env.Le]) + np.sum(env.state[env.Lr+1:])\n",
    "    return Q, max(0, ip-Se)"
   ]
  },
  {
   "cell_type": "code",
   "execution_count": 67,
   "id": "after-uganda",
   "metadata": {},
   "outputs": [
    {
     "data": {
      "text/plain": [
       "(-48426.34678, 1150.3982653473936)"
      ]
     },
     "execution_count": 67,
     "metadata": {},
     "output_type": "execute_result"
    }
   ],
   "source": [
    "evaluate(env, 100, 1000, TBS, env, 5, 3)"
   ]
  },
  {
   "cell_type": "code",
   "execution_count": 1,
   "id": "sensitive-donna",
   "metadata": {},
   "outputs": [],
   "source": [
    "def evaluate_done(env, n_episodes, numiters, policy, *args):\n",
    "    # policy: policy function\n",
    "    # env: gym environment\n",
    "    # n_episodes: number of total episodes to run (outer iteration)\n",
    "    # numiters: number of time steps (inner iteration)\n",
    "    \n",
    "    av_reward = np.zeros(n_episodes)\n",
    "    \n",
    "    for i in range(n_episodes):\n",
    "        av_r = 0\n",
    "        env.reset() # reset environment\n",
    "        for t in range(numiters):\n",
    "            action = policy(*args) # use a constant action\n",
    "            state, reward, demand, done, info = env.step(action)\n",
    "            av_r = av_r + reward\n",
    "            if done:\n",
    "                break\n",
    "        print(done, t)\n",
    "    \n",
    "        av_reward[i] = av_r / numiters\n",
    "    \n",
    "        \n",
    "    return np.mean(av_reward), np.std(av_reward) # return average reward and std"
   ]
  },
  {
   "cell_type": "code",
   "execution_count": 35,
   "id": "related-dinner",
   "metadata": {},
   "outputs": [
    {
     "name": "stdout",
     "output_type": "stream",
     "text": [
      "True 2644\n",
      "True 7356\n",
      "True 267\n",
      "True 167\n",
      "True 6281\n",
      "True 949\n",
      "True 6909\n",
      "True 107\n",
      "True 1144\n",
      "True 77\n",
      "True 430\n",
      "True 73\n",
      "True 136\n",
      "True 27\n",
      "True 133\n",
      "True 63668\n",
      "True 36\n",
      "True 113\n",
      "True 459\n",
      "True 5375\n",
      "True 168\n",
      "True 184\n",
      "True 1064\n",
      "True 167\n",
      "True 39\n",
      "True 320\n",
      "True 78\n",
      "True 239\n",
      "True 1690\n",
      "True 141\n",
      "True 86\n",
      "True 274\n",
      "True 47\n",
      "True 211\n",
      "True 4272\n",
      "True 3435\n",
      "True 123\n",
      "True 63\n",
      "True 224\n",
      "True 9662\n",
      "True 125\n",
      "True 428\n",
      "True 595\n",
      "True 114\n",
      "True 89\n",
      "True 21\n",
      "True 606\n",
      "True 13881\n",
      "True 193\n",
      "True 98\n",
      "True 79\n",
      "True 109\n",
      "True 1080\n",
      "True 43\n",
      "True 4795\n",
      "True 125\n",
      "True 195\n",
      "True 1260\n",
      "True 4867\n",
      "True 28\n",
      "True 3635\n",
      "True 345\n",
      "True 88\n",
      "True 3170\n",
      "True 57\n",
      "True 1523\n",
      "True 186\n",
      "True 122\n",
      "True 418\n",
      "True 150\n",
      "True 114\n",
      "True 276\n",
      "True 7167\n",
      "True 2640\n",
      "True 252\n",
      "True 61\n",
      "True 130\n",
      "True 38\n",
      "True 383\n",
      "True 8741\n",
      "True 42\n",
      "True 157\n",
      "True 2519\n",
      "True 4641\n",
      "True 186\n",
      "True 429\n",
      "True 5543\n",
      "True 32\n",
      "True 295706\n",
      "True 211\n",
      "True 42\n",
      "True 25\n",
      "True 722\n",
      "True 89\n",
      "True 127\n",
      "True 1277\n",
      "True 5151\n",
      "True 90\n",
      "True 335\n",
      "True 266\n"
     ]
    },
    {
     "data": {
      "text/plain": [
       "(-89.18548736999999, 779.2597477737679)"
      ]
     },
     "execution_count": 35,
     "metadata": {},
     "output_type": "execute_result"
    }
   ],
   "source": [
    "evaluate_done(env, 100, 1000000, constant_policy, env)"
   ]
  },
  {
   "cell_type": "code",
   "execution_count": 37,
   "id": "amateur-karen",
   "metadata": {},
   "outputs": [
    {
     "name": "stdout",
     "output_type": "stream",
     "text": [
      "False 9999\n",
      "False 9999\n",
      "True 53\n",
      "True 399\n",
      "True 834\n",
      "True 2116\n",
      "False 9999\n",
      "True 1399\n",
      "True 154\n",
      "True 345\n",
      "True 162\n",
      "False 9999\n",
      "True 4685\n",
      "True 8033\n",
      "True 114\n",
      "True 62\n",
      "True 1064\n",
      "True 176\n",
      "True 416\n",
      "True 408\n",
      "True 140\n",
      "True 347\n",
      "True 7639\n",
      "True 116\n",
      "True 43\n",
      "True 138\n",
      "True 654\n",
      "True 7138\n",
      "True 57\n",
      "False 9999\n",
      "True 116\n",
      "True 1565\n",
      "True 49\n",
      "True 275\n",
      "True 414\n",
      "True 394\n",
      "True 384\n",
      "False 9999\n",
      "True 75\n",
      "True 249\n",
      "True 5805\n",
      "True 159\n",
      "True 230\n",
      "True 1312\n",
      "True 147\n",
      "True 675\n",
      "True 28\n",
      "True 62\n",
      "True 54\n",
      "True 85\n",
      "True 605\n",
      "True 160\n",
      "True 52\n",
      "True 3509\n",
      "True 2847\n",
      "True 46\n",
      "True 274\n",
      "True 41\n",
      "False 9999\n",
      "True 41\n",
      "True 1568\n",
      "True 14\n",
      "True 85\n",
      "True 323\n",
      "True 253\n",
      "True 4606\n",
      "True 909\n",
      "True 68\n",
      "True 6227\n",
      "True 21\n",
      "True 418\n",
      "True 308\n",
      "True 45\n",
      "True 320\n",
      "True 4734\n",
      "False 9999\n",
      "True 1637\n",
      "True 75\n",
      "True 135\n",
      "True 1310\n",
      "True 3622\n",
      "True 2118\n",
      "True 602\n",
      "True 1030\n",
      "True 442\n",
      "True 697\n",
      "True 120\n",
      "False 9999\n",
      "True 394\n",
      "True 53\n",
      "False 9999\n",
      "True 398\n",
      "True 335\n",
      "True 20\n",
      "True 377\n",
      "True 1010\n",
      "True 44\n",
      "True 963\n",
      "True 417\n",
      "True 132\n"
     ]
    },
    {
     "data": {
      "text/plain": [
       "(-881.7967240000002, 1934.8869036319534)"
      ]
     },
     "execution_count": 37,
     "metadata": {},
     "output_type": "execute_result"
    }
   ],
   "source": [
    "evaluate_done(env, 100, 10000, constant_policy, env)"
   ]
  }
 ],
 "metadata": {
  "kernelspec": {
   "display_name": "Python 3",
   "language": "python",
   "name": "python3"
  },
  "language_info": {
   "codemirror_mode": {
    "name": "ipython",
    "version": 3
   },
   "file_extension": ".py",
   "mimetype": "text/x-python",
   "name": "python",
   "nbconvert_exporter": "python",
   "pygments_lexer": "ipython3",
   "version": "3.8.2"
  }
 },
 "nbformat": 4,
 "nbformat_minor": 5
}
