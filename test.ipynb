{
 "cells": [
  {
   "cell_type": "markdown",
   "id": "wooden-compact",
   "metadata": {},
   "source": [
    "Import packages."
   ]
  },
  {
   "cell_type": "code",
   "execution_count": 1,
   "id": "binding-island",
   "metadata": {},
   "outputs": [],
   "source": [
    "import gym\n",
    "import numpy as np\n",
    "import matplotlib.pyplot as plt\n",
    "import dual_sourcing"
   ]
  },
  {
   "cell_type": "markdown",
   "id": "alien-formation",
   "metadata": {},
   "source": [
    "Set up configurations for the environment."
   ]
  },
  {
   "cell_type": "code",
   "execution_count": 2,
   "id": "capable-kingdom",
   "metadata": {},
   "outputs": [],
   "source": [
    "CONFIG = {'Lr': 5, 'Le': 1, 'cr': 100, 'ce': 105, 'lambda': 10,\n",
    "          'h': 1, 'b': 19, 'starting_state': [0]*7, 'max_order': 20, 'max_inventory': 1000}"
   ]
  },
  {
   "cell_type": "markdown",
   "id": "central-cylinder",
   "metadata": {},
   "source": [
    "Make an instance of the environment."
   ]
  },
  {
   "cell_type": "code",
   "execution_count": 3,
   "id": "reserved-beach",
   "metadata": {},
   "outputs": [],
   "source": [
    "env = gym.make('DualSourcing-v0', config=CONFIG)"
   ]
  },
  {
   "cell_type": "markdown",
   "id": "federal-snapshot",
   "metadata": {},
   "source": [
    "Print the environment settings."
   ]
  },
  {
   "cell_type": "code",
   "execution_count": 5,
   "id": "opened-weekly",
   "metadata": {},
   "outputs": [
    {
     "name": "stdout",
     "output_type": "stream",
     "text": [
      "[0 0 0 0 0 0 0]\n",
      "MultiDiscrete([21 21])\n",
      "MultiDiscrete([  21   21   21   21   21   21 1000])\n"
     ]
    }
   ],
   "source": [
    "print(env.state)\n",
    "print(env.action_space)\n",
    "print(env.observation_space)"
   ]
  },
  {
   "cell_type": "markdown",
   "id": "stunning-inspiration",
   "metadata": {},
   "source": [
    "Test the step function."
   ]
  },
  {
   "cell_type": "code",
   "execution_count": 6,
   "id": "governing-humor",
   "metadata": {},
   "outputs": [
    {
     "name": "stdout",
     "output_type": "stream",
     "text": [
      "(array([  0,   0,   0,   0,   8,   2, -10]), 0, 10, {})\n",
      "***\n",
      "(array([ 4,  5,  6,  6,  3,  1, -2]), -812, 11, {})\n"
     ]
    }
   ],
   "source": [
    "env.seed(0)\n",
    "env.state = [0] * 7\n",
    "print(env.step([8, 2]))\n",
    "print('***')\n",
    "env.state = [5, 4, 5, 6, 6, 2, 2]\n",
    "print(env.step([3, 1]))"
   ]
  },
  {
   "cell_type": "markdown",
   "id": "frank-difficulty",
   "metadata": {},
   "source": [
    "Evaluate an estimate of the value function for a certain policy by doing multiple episodes of simulation."
   ]
  },
  {
   "cell_type": "code",
   "execution_count": 39,
   "id": "romantic-homeless",
   "metadata": {},
   "outputs": [],
   "source": [
    "def evaluate(env, n_episodes, numiters, policy, *args):\n",
    "    # env: gym environment\n",
    "    # n_episodes: number of total episodes to run (outer iteration)\n",
    "    # numiters: number of time steps (inner iteration)\n",
    "    # policy: policy function\n",
    "    # *args: arguments in the policy function\n",
    "    \n",
    "    av_reward = np.zeros(n_episodes)\n",
    "    \n",
    "    for i in range(n_episodes):\n",
    "        av_r = 0\n",
    "        env.reset() # reset environment\n",
    "        for t in range(numiters):\n",
    "            action = policy(*args)\n",
    "            state, reward, demand, info = env.step(action)\n",
    "            if t > 100 and np.abs( av_r / (t+1) - (av_r + reward) / (t+2))  < 1e-4: # convergence is spotted\n",
    "                break\n",
    "            av_r = av_r + reward\n",
    "        av_reward[i] = av_r / (t+1)\n",
    "#         print(t)\n",
    "        \n",
    "    return np.mean(av_reward), np.std(av_reward) # return average reward and std"
   ]
  },
  {
   "cell_type": "markdown",
   "id": "cooperative-journalist",
   "metadata": {},
   "source": [
    "We need to decide on some policy that will not make the average reward blow up. As a result, we write the following function to plot the average reward vs. time step as a guidance."
   ]
  },
  {
   "cell_type": "code",
   "execution_count": 18,
   "id": "photographic-baker",
   "metadata": {},
   "outputs": [],
   "source": [
    "def convergence_test(env, numiters, policy, *args):\n",
    "\n",
    "    cum_reward = np.zeros(numiters)\n",
    "    av_reward = np.zeros(numiters)\n",
    "    \n",
    "    env.reset() # reset environment\n",
    "    for t in range(numiters-1):\n",
    "        action = policy(*args)\n",
    "        state, reward, demand, info = env.step(action)\n",
    "        cum_reward[t+1] = cum_reward[t] + reward\n",
    "        av_reward[t+1] = cum_reward[t+1] / (t+1)\n",
    "        \n",
    "    plt.plot(range(numiters), av_reward)\n",
    "    plt.xlabel('time step')\n",
    "    plt.ylabel('average reward')"
   ]
  },
  {
   "cell_type": "markdown",
   "id": "analyzed-graphic",
   "metadata": {},
   "source": [
    "(1) Random policy."
   ]
  },
  {
   "cell_type": "code",
   "execution_count": 16,
   "id": "marked-master",
   "metadata": {},
   "outputs": [],
   "source": [
    "def random_policy(env):\n",
    "    return env.action_space.sample()"
   ]
  },
  {
   "cell_type": "code",
   "execution_count": 20,
   "id": "external-mozambique",
   "metadata": {},
   "outputs": [
    {
     "data": {
      "text/plain": [
       "Text(0.5, 1.0, 'Random policy')"
      ]
     },
     "execution_count": 20,
     "metadata": {},
     "output_type": "execute_result"
    },
    {
     "data": {
      "image/png": "[encoded data removed]",
      "text/plain": [
       "<Figure size 432x288 with 1 Axes>"
      ]
     },
     "metadata": {
      "needs_background": "light"
     },
     "output_type": "display_data"
    }
   ],
   "source": [
    "convergence_test(env, 10000, random_policy, env)\n",
    "plt.title('Random policy')"
   ]
  },
  {
   "cell_type": "markdown",
   "id": "dental-habitat",
   "metadata": {},
   "source": [
    "It is obvious that random policy cannot guarantee convergence."
   ]
  },
  {
   "cell_type": "markdown",
   "id": "canadian-james",
   "metadata": {},
   "source": [
    "(2) Constant policy."
   ]
  },
  {
   "cell_type": "code",
   "execution_count": 21,
   "id": "color-blues",
   "metadata": {},
   "outputs": [],
   "source": [
    "def constant_policy(action):\n",
    "    return action"
   ]
  },
  {
   "cell_type": "code",
   "execution_count": 24,
   "id": "incomplete-architect",
   "metadata": {},
   "outputs": [
    {
     "data": {
      "text/plain": [
       "Text(0.5, 1.0, 'Constant policy')"
      ]
     },
     "execution_count": 24,
     "metadata": {},
     "output_type": "execute_result"
    },
    {
     "data": {
      "image/png": "[encoded data removed]",
      "text/plain": [
       "<Figure size 432x288 with 1 Axes>"
      ]
     },
     "metadata": {
      "needs_background": "light"
     },
     "output_type": "display_data"
    }
   ],
   "source": [
    "convergence_test(env, 10000, constant_policy, np.array([0,10]))\n",
    "plt.title('Constant policy')"
   ]
  },
  {
   "cell_type": "markdown",
   "id": "european-brazilian",
   "metadata": {},
   "source": [
    "Constant policy is also not a good candidate."
   ]
  },
  {
   "cell_type": "markdown",
   "id": "assisted-palestinian",
   "metadata": {},
   "source": [
    "(3) TBS policy\n",
    "\n",
    "We shortly walk through the TBS policy here for consistency. A TBS policy $\\pi_{r,S}$ is characterized by two parameters $r \\in \\mathbb{Z}_+$ and $S \\in \\mathbb{Z}_+$. In each period, the policy always orders $r$ products from $R$ and follows an order-up-to rule from $E$, where we maintain the express inventory position above $S$. That is to say, for all time step $t$, we set \n",
    "$$\n",
    "\\begin{array}{rl}\n",
    "        q_t^r & = r \\\\\n",
    "        q_t^e & = \\max \\left( 0, S-\\hat I_t \\right),\n",
    "\\end{array}\n",
    "$$\n",
    "where $$\\hat I_t := I_t + \\sum_{i=t-L_e}^{t-1} q_i^e + \\sum_{i=t-L_r}^{t-L_r+L_e} q_i^r$$ is the so-called inventory position, which corresponds to the net inventory at the start of period $t$ plus all orders to be received in periods $t,\\dots,t+L_e$."
   ]
  },
  {
   "cell_type": "code",
   "execution_count": 25,
   "id": "compatible-intranet",
   "metadata": {},
   "outputs": [],
   "source": [
    "def TBS(env, r, S):\n",
    "    ip = np.sum(env.state[1:(env.Le+1)]) + np.sum(env.state[env.Lr:])\n",
    "    return r, max(0, S-ip)"
   ]
  },
  {
   "cell_type": "code",
   "execution_count": 27,
   "id": "naval-prevention",
   "metadata": {},
   "outputs": [
    {
     "data": {
      "text/plain": [
       "Text(0.5, 1.0, 'TBS')"
      ]
     },
     "execution_count": 27,
     "metadata": {},
     "output_type": "execute_result"
    },
    {
     "data": {
      "image/png": "[encoded data removed]",
      "text/plain": [
       "<Figure size 432x288 with 1 Axes>"
      ]
     },
     "metadata": {
      "needs_background": "light"
     },
     "output_type": "display_data"
    }
   ],
   "source": [
    "convergence_test(env, 10000, TBS, env, 5, 3)\n",
    "plt.title('TBS')"
   ]
  },
  {
   "cell_type": "markdown",
   "id": "continent-israeli",
   "metadata": {},
   "source": [
    "Eureka!"
   ]
  },
  {
   "cell_type": "markdown",
   "id": "sunset-smooth",
   "metadata": {},
   "source": [
    "As a final step, we use the TBS policy to do the estimation and report the mean as well as the standard deviation."
   ]
  },
  {
   "cell_type": "code",
   "execution_count": 40,
   "id": "loaded-handling",
   "metadata": {},
   "outputs": [
    {
     "data": {
      "text/plain": [
       "(-1251.030088094656, 9.175726521778662)"
      ]
     },
     "execution_count": 40,
     "metadata": {},
     "output_type": "execute_result"
    }
   ],
   "source": [
    "evaluate(env, 100, 5000, TBS, env, 5, 3)"
   ]
  },
  {
   "cell_type": "markdown",
   "id": "correct-truck",
   "metadata": {},
   "source": [
    "We conclude that for TBS policy with parameter $r=5, S=3$, the estimate for the value function is $-1251$ and the standard deviation is $9.176$."
   ]
  }
 ],
 "metadata": {
  "kernelspec": {
   "display_name": "Python 3",
   "language": "python",
   "name": "python3"
  },
  "language_info": {
   "codemirror_mode": {
    "name": "ipython",
    "version": 3
   },
   "file_extension": ".py",
   "mimetype": "text/x-python",
   "name": "python",
   "nbconvert_exporter": "python",
   "pygments_lexer": "ipython3",
   "version": "3.8.2"
  }
 },
 "nbformat": 4,
 "nbformat_minor": 5
}
